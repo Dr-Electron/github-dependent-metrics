{
 "cells": [
  {
   "cell_type": "code",
   "execution_count": null,
   "metadata": {},
   "outputs": [],
   "source": [
    "from github import Github\n",
    "import json\n",
    "import os\n",
    "\n",
    "import ghtopdep\n",
    "import filters"
   ]
  },
  {
   "cell_type": "code",
   "execution_count": null,
   "metadata": {},
   "outputs": [],
   "source": [
    "data = {}\n",
    "with open('config.json') as json_file:\n",
    "    data = json.load(json_file)"
   ]
  },
  {
   "cell_type": "code",
   "execution_count": null,
   "metadata": {},
   "outputs": [],
   "source": [
    "github = Github(login_or_token=os.environ.get(\"GH_TOKEN\"))"
   ]
  },
  {
   "cell_type": "code",
   "execution_count": null,
   "metadata": {},
   "outputs": [],
   "source": [
    "#TODO Add repo loop\n",
    "repo = data[\"repos\"][0]"
   ]
  },
  {
   "cell_type": "code",
   "execution_count": null,
   "metadata": {},
   "outputs": [],
   "source": [
    "package_filter = list(repo[\"packages\"])\n",
    "name = repo[\"name\"]\n",
    "org = repo[\"org\"]\n",
    "repo_url = \"https://github.com/{0}/{1}\".format(org, name)\n",
    "dependent_repos = ghtopdep.get_dependents(repo_url, True,  package_filter, 0)\n",
    "dependent_packages = ghtopdep.get_dependents(repo_url, False, package_filter, 0)"
   ]
  },
  {
   "cell_type": "markdown",
   "metadata": {},
   "source": [
    "### Fuse repos and package dependents and create dictionary out of it"
   ]
  },
  {
   "cell_type": "code",
   "execution_count": null,
   "metadata": {},
   "outputs": [],
   "source": [
    "dependents_per_package = []\n",
    "for index in range(len(dependent_repos)):\n",
    "    dependent_repo = dependent_repos[index]\n",
    "    dependent_package = dependent_packages[index]\n",
    "\n",
    "    dependents = {dependent['url'][19:]: {\"stars\": dependent['stars'], \"dependent_type\": \"repository\"} for dependent in dependent_repo[\"dependents\"]}\n",
    "    dependents.update({dependent['url'][19:]: {\"stars\": dependent['stars'], \"dependent_type\": \"package\"} for dependent in dependent_package[\"dependents\"]})\n",
    "\n",
    "    dependents_per_package.append({\n",
    "        \"name\": dependent_repo[\"name\"],\n",
    "        \"id\": dependent_repo[\"id\"],\n",
    "        \"dependents\": dependents\n",
    "    })"
   ]
  },
  {
   "cell_type": "markdown",
   "metadata": {},
   "source": [
    "### Clean up dependents"
   ]
  },
  {
   "cell_type": "code",
   "execution_count": null,
   "metadata": {},
   "outputs": [],
   "source": [
    "print(\"Dependents which aren't forks of other dependents:\")\n",
    "for package in dependents_per_package:\n",
    "    dependents = {name: info for (name, info) in package[\"dependents\"].items() if filters.filter_forks(github, name, package[\"dependents\"])}\n",
    "    print(package[\"name\"], \": \", len(dependents), \"/\", len(package[\"dependents\"]))\n",
    "\n",
    "    package[\"filtered_dependents\"] = dependents"
   ]
  },
  {
   "cell_type": "markdown",
   "metadata": {},
   "source": [
    "### Get commit activity of all dependencies"
   ]
  },
  {
   "cell_type": "code",
   "execution_count": null,
   "metadata": {},
   "outputs": [],
   "source": [
    "for package in dependents_per_package:\n",
    "    for name, info in package[\"filtered_dependents\"].items():\n",
    "        repo = github.get_repo(name)\n",
    "        info[\"commit_activity\"] = repo.get_stats_commit_activity()"
   ]
  },
  {
   "cell_type": "markdown",
   "metadata": {},
   "source": [
    "### Filter active repos"
   ]
  },
  {
   "cell_type": "code",
   "execution_count": null,
   "metadata": {},
   "outputs": [],
   "source": [
    "print(\"Active dependents:\")\n",
    "for package in dependents_per_package:\n",
    "    dependents = list(filter(filters.filter_active_repos, package[\"filtered_dependents\"].items()))\n",
    "    print(package[\"name\"], \": \", len(dependents), \"/\", len(package[\"filtered_dependents\"]))\n",
    "\n",
    "    package[\"active_dependents\"] = dependents\n"
   ]
  }
 ],
 "metadata": {
  "kernelspec": {
   "display_name": "Python 3.10.7 64-bit",
   "language": "python",
   "name": "python3"
  },
  "language_info": {
   "codemirror_mode": {
    "name": "ipython",
    "version": 3
   },
   "file_extension": ".py",
   "mimetype": "text/x-python",
   "name": "python",
   "nbconvert_exporter": "python",
   "pygments_lexer": "ipython3",
   "version": "3.10.8"
  },
  "orig_nbformat": 4,
  "vscode": {
   "interpreter": {
    "hash": "aee8b7b246df8f9039afb4144a1f6fd8d2ca17a180786b69acc140d282b71a49"
   }
  }
 },
 "nbformat": 4,
 "nbformat_minor": 2
}
