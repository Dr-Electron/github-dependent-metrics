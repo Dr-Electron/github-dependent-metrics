{
 "cells": [
  {
   "cell_type": "code",
   "execution_count": null,
   "metadata": {},
   "outputs": [],
   "source": [
    "import csv\n",
    "import json\n",
    "import os\n",
    "\n",
    "import cache\n",
    "import dependents"
   ]
  },
  {
   "cell_type": "code",
   "execution_count": null,
   "metadata": {},
   "outputs": [],
   "source": [
    "github_cache = cache.GithubAPI(login_or_token=os.environ.get(\"GH_TOKEN\"))"
   ]
  },
  {
   "cell_type": "code",
   "execution_count": null,
   "metadata": {},
   "outputs": [],
   "source": [
    "config = {}\n",
    "with open('config.json') as json_file:\n",
    "    config = json.load(json_file)"
   ]
  },
  {
   "cell_type": "code",
   "execution_count": null,
   "metadata": {},
   "outputs": [],
   "source": [
    "for index in range(len((config[\"repos\"]))):\n",
    "    print(\"Repo nr: \", index)\n",
    "    repo = config[\"repos\"][index]\n",
    "    print(repo[\"name\"])\n",
    "    package_meta = dependents.per_package(repo, github_cache)\n",
    "    print(\n",
    "        \"Cached/Uncached: \",\n",
    "        github_cache.cached_calls,\n",
    "        \"/\",\n",
    "        github_cache.uncached_calls\n",
    "    )\n",
    "    print(\n",
    "        \"Total calls: \",\n",
    "        github_cache.cached_calls + github_cache.uncached_calls\n",
    "    )\n",
    "    \n",
    "    repo[\"package_meta\"] = package_meta"
   ]
  },
  {
   "cell_type": "code",
   "execution_count": null,
   "metadata": {},
   "outputs": [],
   "source": [
    "with open('metrics.csv', 'w') as csvfile:\n",
    "        filewriter = csv.writer(csvfile)\n",
    "        for repo in config['repos']:\n",
    "                filewriter.writerow([repo['org'] + '/' + repo['name']])\n",
    "                filewriter.writerow([])\n",
    "                filewriter.writerow([\n",
    "                        'Package',\n",
    "                        'Language',\n",
    "                        'Dependents',\n",
    "                        'Active Dependents'\n",
    "                ])\n",
    "                for package in repo['package_meta']:\n",
    "                        package_name = package['name']\n",
    "\n",
    "                        filewriter.writerow([\n",
    "                                package_name,\n",
    "                                repo['packages'][package_name],\n",
    "                                len(package['dependents']),\n",
    "                                len(package['active_dependents'])\n",
    "                        ])\n",
    "\n",
    "                filewriter.writerow([])\n",
    "                filewriter.writerow([])"
   ]
  }
 ],
 "metadata": {
  "kernelspec": {
   "display_name": "Python 3.11.0 64-bit",
   "language": "python",
   "name": "python3"
  },
  "language_info": {
   "codemirror_mode": {
    "name": "ipython",
    "version": 3
   },
   "file_extension": ".py",
   "mimetype": "text/x-python",
   "name": "python",
   "nbconvert_exporter": "python",
   "pygments_lexer": "ipython3",
   "version": "3.11.0"
  },
  "orig_nbformat": 4,
  "vscode": {
   "interpreter": {
    "hash": "949777d72b0d2535278d3dc13498b2535136f6dfe0678499012e853ee9abcab1"
   }
  }
 },
 "nbformat": 4,
 "nbformat_minor": 2
}
