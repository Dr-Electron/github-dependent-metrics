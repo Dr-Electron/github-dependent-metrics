{
 "cells": [
  {
   "cell_type": "code",
   "execution_count": null,
   "metadata": {},
   "outputs": [],
   "source": [
    "import csv\n",
    "import json\n",
    "import os\n",
    "\n",
    "import cache\n",
    "import dependents\n",
    "import version"
   ]
  },
  {
   "cell_type": "code",
   "execution_count": null,
   "metadata": {},
   "outputs": [],
   "source": [
    "github_cache = cache.GithubAPI(login_or_token=os.environ.get(\"GH_TOKEN\"))"
   ]
  },
  {
   "cell_type": "code",
   "execution_count": null,
   "metadata": {},
   "outputs": [],
   "source": [
    "config = {}\n",
    "with open('config.json') as json_file:\n",
    "    config = json.load(json_file)"
   ]
  },
  {
   "cell_type": "code",
   "execution_count": null,
   "metadata": {},
   "outputs": [],
   "source": [
    "for index in range(len((config[\"repos\"]))):\n",
    "    print(\"Repo nr: \", index)\n",
    "    repo = config[\"repos\"][index]\n",
    "    print(repo[\"name\"])\n",
    "    package_meta = dependents.per_package(repo, github_cache)\n",
    "    print(\n",
    "        \"Cached/Uncached: \",\n",
    "        github_cache.cached_calls,\n",
    "        \"/\",\n",
    "        github_cache.uncached_calls\n",
    "    )\n",
    "    print(\n",
    "        \"Total calls: \",\n",
    "        github_cache.cached_calls + github_cache.uncached_calls\n",
    "    )\n",
    "    \n",
    "    repo[\"package_meta\"] = package_meta"
   ]
  },
  {
   "cell_type": "markdown",
   "metadata": {},
   "source": [
    "# Get versions used"
   ]
  },
  {
   "cell_type": "code",
   "execution_count": null,
   "metadata": {},
   "outputs": [],
   "source": [
    "jsly_language = ['Node.js', 'Typescript', 'Javascript', 'Wasm']\n",
    "\n",
    "for repo in config[\"repos\"]:\n",
    "    for index, package in enumerate(repo['package_meta']):\n",
    "        print(package['name'])\n",
    "        print(repo['packages'][package['name']])\n",
    "        \n",
    "        language = repo['packages'][package['name']]\n",
    "        func = version.get_rust_lib_version\n",
    "        if language in jsly_language:\n",
    "            func = version.get_js_lib_version\n",
    "\n",
    "        for (name, metadata) in package['active_dependents']:\n",
    "        #if (True):\n",
    "        #    (name, metadata) = package['active_dependents'][8]\n",
    "            print(name)\n",
    "            metadata['versions'] = func(github_cache, name, package['name'])"
   ]
  },
  {
   "cell_type": "code",
   "execution_count": null,
   "metadata": {},
   "outputs": [],
   "source": [
    "print(\n",
    "        \"Cached/Uncached: \",\n",
    "        github_cache.cached_calls,\n",
    "        \"/\",\n",
    "        github_cache.uncached_calls\n",
    "    )\n",
    "print(\n",
    "        \"Total calls: \",\n",
    "        github_cache.cached_calls + github_cache.uncached_calls\n",
    ")"
   ]
  },
  {
   "cell_type": "markdown",
   "metadata": {},
   "source": [
    "# Create version dict"
   ]
  },
  {
   "cell_type": "code",
   "execution_count": null,
   "metadata": {},
   "outputs": [],
   "source": [
    "for repo in config[\"repos\"]:\n",
    "    for package in repo['package_meta']:\n",
    "        locked_versions = {}\n",
    "        for (name, metadata) in package['active_dependents']:\n",
    "            print(name)\n",
    "            print(len(metadata['versions']))\n",
    "            for version in metadata['versions']:\n",
    "                version = version['locked_version']\n",
    "                print(version)\n",
    "                if version in locked_versions:\n",
    "                    locked_versions[version] += 1\n",
    "                else:\n",
    "                    locked_versions[version] = 1\n",
    "        package['locked_versions_histo'] = locked_versions\n"
   ]
  },
  {
   "cell_type": "code",
   "execution_count": null,
   "metadata": {},
   "outputs": [],
   "source": [
    "with open('metrics.csv', 'w') as csvfile:\n",
    "        filewriter = csv.writer(csvfile)\n",
    "        for repo in config['repos']:\n",
    "                filewriter.writerow([repo['org'] + '/' + repo['name']])\n",
    "                filewriter.writerow([])\n",
    "                filewriter.writerow([\n",
    "                        'Package',\n",
    "                        'Language',\n",
    "                        'Dependents',\n",
    "                        'Active Dependents'\n",
    "                ])\n",
    "                for package in repo['package_meta']:\n",
    "                        package_name = package['name']\n",
    "\n",
    "                        filewriter.writerow([\n",
    "                                package_name,\n",
    "                                repo['packages'][package_name],\n",
    "                                len(package['dependents']),\n",
    "                                len(package['active_dependents'])\n",
    "                        ])\n",
    "\n",
    "                        filewriter.writerow([])\n",
    "\n",
    "                        # Replace None with Unknown\n",
    "                        keys = [\n",
    "                                'Unknown' if x is None else x for x in package['locked_versions_histo'].keys()\n",
    "                        ]\n",
    "\n",
    "                        filewriter.writerow(keys)\n",
    "                        filewriter.writerow(package['locked_versions_histo'].values())\n",
    "\n",
    "                filewriter.writerow([])\n",
    "                filewriter.writerow([])"
   ]
  },
  {
   "cell_type": "markdown",
   "metadata": {},
   "source": [
    "# Export Config"
   ]
  },
  {
   "cell_type": "code",
   "execution_count": null,
   "metadata": {},
   "outputs": [],
   "source": [
    "import copy\n",
    "\n",
    "config_copy = copy.deepcopy(config)\n",
    "for repo in config_copy[\"repos\"]:\n",
    "    for package in repo['package_meta']:\n",
    "        for (name, metadata) in package['active_dependents']:\n",
    "            if 'commit_activity' in metadata:\n",
    "                del metadata['commit_activity']\n",
    "        for key, value in package['filtered_dependents'].items():\n",
    "            if 'commit_activity' in value:\n",
    "                del value['commit_activity']\n",
    "\n",
    "with open(\"store_versions.json\", \"w\") as outfile:\n",
    "    json.dump(config_copy, outfile, indent=4)"
   ]
  },
  {
   "cell_type": "code",
   "execution_count": null,
   "metadata": {},
   "outputs": [],
   "source": [
    "config = {}\n",
    "with open('store.json') as json_file:\n",
    "    config = json.load(json_file)"
   ]
  }
 ],
 "metadata": {
  "kernelspec": {
   "display_name": "Python 3.11.0 64-bit",
   "language": "python",
   "name": "python3"
  },
  "language_info": {
   "codemirror_mode": {
    "name": "ipython",
    "version": 3
   },
   "file_extension": ".py",
   "mimetype": "text/x-python",
   "name": "python",
   "nbconvert_exporter": "python",
   "pygments_lexer": "ipython3",
   "version": "3.11.0"
  },
  "orig_nbformat": 4,
  "vscode": {
   "interpreter": {
    "hash": "949777d72b0d2535278d3dc13498b2535136f6dfe0678499012e853ee9abcab1"
   }
  }
 },
 "nbformat": 4,
 "nbformat_minor": 2
}
